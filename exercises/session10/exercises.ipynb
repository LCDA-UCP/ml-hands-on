{
 "cells": [
  {
   "cell_type": "markdown",
   "source": [
    "# Load one of the datasets in the datasets directory"
   ],
   "metadata": {
    "collapsed": false
   },
   "id": "82b3121c66086cdd"
  },
  {
   "cell_type": "code",
   "source": [
    "# add code here\n",
    "import pandas as pd\n",
    "\n",
    "df = pd.read_csv('../data/iris_scaled.csv')\n",
    "df.head()"
   ],
   "metadata": {
    "collapsed": false,
    "ExecuteTime": {
     "end_time": "2025-03-07T12:21:51.402627Z",
     "start_time": "2025-03-07T12:21:51.375455Z"
    }
   },
   "id": "34066d6c4fc3746e",
   "outputs": [
    {
     "data": {
      "text/plain": [
       "   Sepal.Length  Sepal.Width  Petal.Length  Petal.Width Species\n",
       "0     -0.900681     1.019004     -1.340227    -1.315444  setosa\n",
       "1     -1.143017    -0.131979     -1.340227    -1.315444  setosa\n",
       "2     -1.385353     0.328414     -1.397064    -1.315444  setosa\n",
       "3     -1.506521     0.098217     -1.283389    -1.315444  setosa\n",
       "4     -1.021849     1.249201     -1.340227    -1.315444  setosa"
      ],
      "text/html": [
       "<div>\n",
       "<style scoped>\n",
       "    .dataframe tbody tr th:only-of-type {\n",
       "        vertical-align: middle;\n",
       "    }\n",
       "\n",
       "    .dataframe tbody tr th {\n",
       "        vertical-align: top;\n",
       "    }\n",
       "\n",
       "    .dataframe thead th {\n",
       "        text-align: right;\n",
       "    }\n",
       "</style>\n",
       "<table border=\"1\" class=\"dataframe\">\n",
       "  <thead>\n",
       "    <tr style=\"text-align: right;\">\n",
       "      <th></th>\n",
       "      <th>Sepal.Length</th>\n",
       "      <th>Sepal.Width</th>\n",
       "      <th>Petal.Length</th>\n",
       "      <th>Petal.Width</th>\n",
       "      <th>Species</th>\n",
       "    </tr>\n",
       "  </thead>\n",
       "  <tbody>\n",
       "    <tr>\n",
       "      <th>0</th>\n",
       "      <td>-0.900681</td>\n",
       "      <td>1.019004</td>\n",
       "      <td>-1.340227</td>\n",
       "      <td>-1.315444</td>\n",
       "      <td>setosa</td>\n",
       "    </tr>\n",
       "    <tr>\n",
       "      <th>1</th>\n",
       "      <td>-1.143017</td>\n",
       "      <td>-0.131979</td>\n",
       "      <td>-1.340227</td>\n",
       "      <td>-1.315444</td>\n",
       "      <td>setosa</td>\n",
       "    </tr>\n",
       "    <tr>\n",
       "      <th>2</th>\n",
       "      <td>-1.385353</td>\n",
       "      <td>0.328414</td>\n",
       "      <td>-1.397064</td>\n",
       "      <td>-1.315444</td>\n",
       "      <td>setosa</td>\n",
       "    </tr>\n",
       "    <tr>\n",
       "      <th>3</th>\n",
       "      <td>-1.506521</td>\n",
       "      <td>0.098217</td>\n",
       "      <td>-1.283389</td>\n",
       "      <td>-1.315444</td>\n",
       "      <td>setosa</td>\n",
       "    </tr>\n",
       "    <tr>\n",
       "      <th>4</th>\n",
       "      <td>-1.021849</td>\n",
       "      <td>1.249201</td>\n",
       "      <td>-1.340227</td>\n",
       "      <td>-1.315444</td>\n",
       "      <td>setosa</td>\n",
       "    </tr>\n",
       "  </tbody>\n",
       "</table>\n",
       "</div>"
      ]
     },
     "execution_count": 2,
     "metadata": {},
     "output_type": "execute_result"
    }
   ],
   "execution_count": 2
  },
  {
   "cell_type": "markdown",
   "source": [
    "### scale the data if necessary"
   ],
   "metadata": {
    "collapsed": false
   },
   "id": "6943adcb6398ec93"
  },
  {
   "cell_type": "code",
   "outputs": [],
   "source": [
    "# add code here\n",
    "# obtei por importar o dataset iris já scaled"
   ],
   "metadata": {
    "collapsed": false,
    "ExecuteTime": {
     "end_time": "2024-03-13T20:54:01.001118Z",
     "start_time": "2024-03-13T20:54:00.998215Z"
    }
   },
   "id": "ab2e641d427bcd8e",
   "execution_count": 2
  },
  {
   "cell_type": "markdown",
   "source": [
    "## split the data into train and test"
   ],
   "metadata": {
    "collapsed": false
   },
   "id": "d841735e9a3459dd"
  },
  {
   "cell_type": "code",
   "source": [
    "# add code here\n",
    "from sklearn.model_selection import train_test_split\n",
    "\n",
    "X = df.drop('Species', axis=1)\n",
    "y = df['Species']\n",
    "\n",
    "X_train, X_test, y_train, y_test = train_test_split(X, y, test_size=0.2, random_state=123)\n",
    "X_train.shape, X_test.shape, y_train.shape, y_test.shape"
   ],
   "metadata": {
    "collapsed": false,
    "ExecuteTime": {
     "end_time": "2025-03-07T12:22:17.487346Z",
     "start_time": "2025-03-07T12:22:14.904550Z"
    }
   },
   "id": "89dcdaf0a8892429",
   "outputs": [
    {
     "data": {
      "text/plain": [
       "((120, 4), (30, 4), (120,), (30,))"
      ]
     },
     "execution_count": 3,
     "metadata": {},
     "output_type": "execute_result"
    }
   ],
   "execution_count": 3
  },
  {
   "cell_type": "markdown",
   "source": [
    "## Experiment with Linear/Logistic Regression and Lasso/Ridge Regression"
   ],
   "metadata": {
    "collapsed": false
   },
   "id": "94331aa7651dc654"
  },
  {
   "cell_type": "code",
   "outputs": [],
   "source": [
    "# add code here\n"
   ],
   "metadata": {
    "collapsed": false,
    "ExecuteTime": {
     "end_time": "2024-03-13T20:55:00.786767Z",
     "start_time": "2024-03-13T20:55:00.783760Z"
    }
   },
   "id": "41a4b3e7cc20926",
   "execution_count": 4
  },
  {
   "cell_type": "markdown",
   "source": [
    "### What are the coefficients and intercepts of the models?"
   ],
   "metadata": {
    "collapsed": false
   },
   "id": "273421218b49995"
  },
  {
   "cell_type": "code",
   "outputs": [],
   "source": [
    "# add code here\n"
   ],
   "metadata": {
    "collapsed": false,
    "ExecuteTime": {
     "end_time": "2024-03-13T20:55:32.755765Z",
     "start_time": "2024-03-13T20:55:32.752932Z"
    }
   },
   "id": "28178b9a49f559c6",
   "execution_count": 6
  },
  {
   "cell_type": "markdown",
   "source": [
    "## Evaluate the models using the test data"
   ],
   "metadata": {
    "collapsed": false
   },
   "id": "80ca20e8dee7f0ec"
  },
  {
   "cell_type": "code",
   "outputs": [],
   "source": [
    "# add code here\n"
   ],
   "metadata": {
    "collapsed": false,
    "ExecuteTime": {
     "end_time": "2024-03-13T20:56:20.295014Z",
     "start_time": "2024-03-13T20:56:20.291901Z"
    }
   },
   "id": "378da01c3951e58a",
   "execution_count": 7
  }
 ],
 "metadata": {
  "kernelspec": {
   "display_name": "Python 3",
   "language": "python",
   "name": "python3"
  },
  "language_info": {
   "codemirror_mode": {
    "name": "ipython",
    "version": 2
   },
   "file_extension": ".py",
   "mimetype": "text/x-python",
   "name": "python",
   "nbconvert_exporter": "python",
   "pygments_lexer": "ipython2",
   "version": "2.7.6"
  }
 },
 "nbformat": 4,
 "nbformat_minor": 5
}
