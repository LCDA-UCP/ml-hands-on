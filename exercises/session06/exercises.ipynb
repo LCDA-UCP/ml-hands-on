{
 "cells": [
  {
   "cell_type": "markdown",
   "source": [
    "# Dimensionality reduction exercises with the iris dataset"
   ],
   "metadata": {
    "collapsed": false
   },
   "id": "872f43e12afc6735"
  },
  {
   "cell_type": "code",
   "outputs": [],
   "source": [
    "# load the iris dataset (../data/iris.csv)\n",
    "import pandas as pd\n",
    "import numpy as np\n"
   ],
   "metadata": {
    "collapsed": false,
    "ExecuteTime": {
     "end_time": "2024-02-26T19:10:46.231237940Z",
     "start_time": "2024-02-26T19:10:46.230626372Z"
    }
   },
   "id": "68e38a52cf757027",
   "execution_count": 1
  },
  {
   "cell_type": "code",
   "outputs": [],
   "source": [
    "# do some exploratory data analysis\n",
    "# add cod\n"
   ],
   "metadata": {
    "collapsed": false
   },
   "id": "3bb88dd6c0537bca",
   "execution_count": null
  },
  {
   "cell_type": "code",
   "outputs": [],
   "source": [
    "# scale the data\n",
    "# add code here\n"
   ],
   "metadata": {
    "collapsed": false,
    "ExecuteTime": {
     "end_time": "2024-02-26T19:11:20.206713918Z",
     "start_time": "2024-02-26T19:11:20.165273279Z"
    }
   },
   "id": "35747fb2bf3b5564",
   "execution_count": 2
  },
  {
   "cell_type": "code",
   "outputs": [],
   "source": [
    "# perform PCA on the scaled data\n",
    "# add code here\n"
   ],
   "metadata": {
    "collapsed": false
   },
   "id": "5720a5c84e42b972",
   "execution_count": null
  },
  {
   "cell_type": "code",
   "outputs": [],
   "source": [
    "# plot the explained variance ratio\n",
    "# add code here\n"
   ],
   "metadata": {
    "collapsed": false
   },
   "id": "82bf06bb3f876b20",
   "execution_count": null
  },
  {
   "cell_type": "code",
   "outputs": [],
   "source": [
    "# plot the first two principal components\n",
    "# add code here\n"
   ],
   "metadata": {
    "collapsed": false
   },
   "id": "540d84051cfb8f3c",
   "execution_count": null
  },
  {
   "cell_type": "code",
   "outputs": [],
   "source": [
    "# perform t-SNE, MDS, t-SNE, and UMAP on the scaled data and compare the results\n",
    "# add code here\n"
   ],
   "metadata": {
    "collapsed": false
   },
   "id": "a0c851ef89b93e71",
   "execution_count": null
  },
  {
   "cell_type": "code",
   "outputs": [],
   "source": [
    "# add code here\n"
   ],
   "metadata": {
    "collapsed": false,
    "ExecuteTime": {
     "end_time": "2024-02-26T19:12:09.542852299Z",
     "start_time": "2024-02-26T19:12:09.501533285Z"
    }
   },
   "id": "44a841b495fed0f2",
   "execution_count": 3
  },
  {
   "cell_type": "code",
   "outputs": [],
   "source": [
    "# add code here\n"
   ],
   "metadata": {
    "collapsed": false,
    "ExecuteTime": {
     "end_time": "2024-02-26T19:12:21.554687550Z",
     "start_time": "2024-02-26T19:12:21.512685630Z"
    }
   },
   "id": "552e9ef00527b6e5",
   "execution_count": 4
  },
  {
   "cell_type": "code",
   "outputs": [],
   "source": [
    "# add code here\n"
   ],
   "metadata": {
    "collapsed": false,
    "ExecuteTime": {
     "end_time": "2024-02-26T19:12:23.575451825Z",
     "start_time": "2024-02-26T19:12:23.565603516Z"
    }
   },
   "id": "eee7e63b2e4bdf2b",
   "execution_count": 5
  },
  {
   "cell_type": "code",
   "outputs": [],
   "source": [],
   "metadata": {
    "collapsed": false
   },
   "id": "153c63bd210789b3",
   "execution_count": null
  }
 ],
 "metadata": {
  "kernelspec": {
   "display_name": "Python 3",
   "language": "python",
   "name": "python3"
  },
  "language_info": {
   "codemirror_mode": {
    "name": "ipython",
    "version": 2
   },
   "file_extension": ".py",
   "mimetype": "text/x-python",
   "name": "python",
   "nbconvert_exporter": "python",
   "pygments_lexer": "ipython2",
   "version": "2.7.6"
  }
 },
 "nbformat": 4,
 "nbformat_minor": 5
}
