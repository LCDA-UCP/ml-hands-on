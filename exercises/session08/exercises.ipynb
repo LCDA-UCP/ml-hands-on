{
 "cells": [
  {
   "cell_type": "markdown",
   "source": [
    "# Load a dataset of your choice from the datasets directory (breast_cancer.csv --> binary classification, iris.csv --> multiclass classification, wines.csv --> multiclass classification, diabetes.csv --> regression)"
   ],
   "metadata": {
    "collapsed": false
   },
   "id": "b77b00f2c6c7e203"
  },
  {
   "cell_type": "code",
   "source": "# add code here\n",
   "metadata": {
    "collapsed": true,
    "ExecuteTime": {
     "end_time": "2025-02-20T15:21:16.716789Z",
     "start_time": "2025-02-20T15:21:16.713600Z"
    }
   },
   "id": "initial_id",
   "outputs": [],
   "execution_count": 1
  },
  {
   "metadata": {},
   "cell_type": "markdown",
   "source": "## Split the dataset into features (X) and target (y)",
   "id": "77fb8daca6e09cdd"
  },
  {
   "cell_type": "code",
   "source": "",
   "metadata": {
    "collapsed": false,
    "ExecuteTime": {
     "end_time": "2025-02-20T15:21:16.871619Z",
     "start_time": "2025-02-20T15:21:16.867931Z"
    }
   },
   "id": "172048f7fa3afb1e",
   "outputs": [],
   "execution_count": null
  },
  {
   "cell_type": "markdown",
   "source": [
    "# Split the dataset into training and testing sets (X_train, X_test, y_train, y_test)"
   ],
   "metadata": {
    "collapsed": false
   },
   "id": "eb1d51e468f36d20"
  },
  {
   "cell_type": "code",
   "source": "# add code here\n",
   "metadata": {
    "collapsed": false,
    "ExecuteTime": {
     "end_time": "2025-02-20T15:21:17.083485Z",
     "start_time": "2025-02-20T15:21:17.080907Z"
    }
   },
   "id": "b89f7e5892d7e3fb",
   "outputs": [],
   "execution_count": 2
  },
  {
   "cell_type": "markdown",
   "source": [
    "# Make predictions with a model (uncomment the code below for your specific dataset)"
   ],
   "metadata": {
    "collapsed": false
   },
   "id": "fd038512de9257d7"
  },
  {
   "cell_type": "code",
   "source": [
    "# for classification\n",
    "# from sklearn.ensemble import RandomForestClassifier\n",
    "#\n",
    "# model = RandomForestClassifier()\n",
    "# model.fit(X_train, y_train)\n",
    "# predictions = model.predict(X_test)\n",
    "# predictions\n",
    "\n",
    "# for regression\n",
    "# from sklearn.ensemble import RandomForestRegressor\n",
    "# model = RandomForestRegressor()\n",
    "# model.fit(X_train, y_train)\n",
    "# predictions = model.predict(X_test)"
   ],
   "metadata": {
    "collapsed": false,
    "ExecuteTime": {
     "end_time": "2025-02-20T15:21:17.156366Z",
     "start_time": "2025-02-20T15:21:17.152988Z"
    }
   },
   "id": "382109436f18a1a0",
   "outputs": [],
   "execution_count": 3
  },
  {
   "cell_type": "markdown",
   "source": [
    "# Evaluate the model using at least 3 different metrics"
   ],
   "metadata": {
    "collapsed": false
   },
   "id": "b67cafc168174677"
  },
  {
   "cell_type": "code",
   "source": "# add code here\n",
   "metadata": {
    "collapsed": false,
    "ExecuteTime": {
     "end_time": "2025-02-20T15:21:17.317698Z",
     "start_time": "2025-02-20T15:21:17.314792Z"
    }
   },
   "id": "dd8bd95513bbf087",
   "outputs": [],
   "execution_count": 4
  },
  {
   "cell_type": "code",
   "source": "\n",
   "metadata": {
    "collapsed": false,
    "ExecuteTime": {
     "end_time": "2025-02-20T15:21:17.384935Z",
     "start_time": "2025-02-20T15:21:17.382615Z"
    }
   },
   "id": "d47313fcc5fccb2e",
   "outputs": [],
   "execution_count": 4
  },
  {
   "cell_type": "code",
   "source": "\n",
   "metadata": {
    "collapsed": false,
    "ExecuteTime": {
     "end_time": "2025-02-20T15:21:17.449341Z",
     "start_time": "2025-02-20T15:21:17.446954Z"
    }
   },
   "id": "dec99964285c19ab",
   "outputs": [],
   "execution_count": 4
  },
  {
   "cell_type": "code",
   "source": "",
   "metadata": {
    "collapsed": false,
    "ExecuteTime": {
     "end_time": "2025-02-20T15:21:17.494342Z",
     "start_time": "2025-02-20T15:21:17.491689Z"
    }
   },
   "id": "788cdcf0c5928c6c",
   "outputs": [],
   "execution_count": null
  },
  {
   "cell_type": "markdown",
   "source": [
    "# Use error estimation techniques to get a sense of how well your model will generalize to new data"
   ],
   "metadata": {
    "collapsed": false
   },
   "id": "9cc02d8096026c8e"
  },
  {
   "cell_type": "code",
   "source": [
    "# Holdout validation\n",
    "# add code here\n"
   ],
   "metadata": {
    "collapsed": false,
    "ExecuteTime": {
     "end_time": "2025-02-20T15:21:17.547499Z",
     "start_time": "2025-02-20T15:21:17.544448Z"
    }
   },
   "id": "9a47789763236cd9",
   "outputs": [],
   "execution_count": 5
  },
  {
   "cell_type": "code",
   "source": [
    "# Cross-validation\n",
    "# add code here\n"
   ],
   "metadata": {
    "collapsed": false,
    "ExecuteTime": {
     "end_time": "2025-02-20T15:21:17.605014Z",
     "start_time": "2025-02-20T15:21:17.601338Z"
    }
   },
   "id": "112f01d2de419031",
   "outputs": [],
   "execution_count": 6
  }
 ],
 "metadata": {
  "kernelspec": {
   "display_name": "Python 3",
   "language": "python",
   "name": "python3"
  },
  "language_info": {
   "codemirror_mode": {
    "name": "ipython",
    "version": 2
   },
   "file_extension": ".py",
   "mimetype": "text/x-python",
   "name": "python",
   "nbconvert_exporter": "python",
   "pygments_lexer": "ipython2",
   "version": "2.7.6"
  }
 },
 "nbformat": 4,
 "nbformat_minor": 5
}
