{
 "cells": [
  {
   "cell_type": "markdown",
   "source": [
    "# Data preprocessing exercises"
   ],
   "metadata": {
    "collapsed": false
   },
   "id": "528257033f4ec232"
  },
  {
   "cell_type": "code",
   "outputs": [],
   "source": [
    "# load the wines dataset (wines.csv)\n",
    "# add code here\n"
   ],
   "metadata": {
    "collapsed": false,
    "ExecuteTime": {
     "end_time": "2024-02-07T20:19:07.513410834Z",
     "start_time": "2024-02-07T20:19:07.468455996Z"
    }
   },
   "id": "5ef80d8a6b4dbd50",
   "execution_count": 19
  },
  {
   "cell_type": "code",
   "outputs": [],
   "source": [
    "# check the dimensions of the dataset\n",
    "# add code here\n"
   ],
   "metadata": {
    "collapsed": false,
    "ExecuteTime": {
     "end_time": "2024-02-07T20:19:23.939910018Z",
     "start_time": "2024-02-07T20:19:23.937589999Z"
    }
   },
   "id": "c3e1e68278eb1cae",
   "execution_count": 20
  },
  {
   "cell_type": "code",
   "outputs": [],
   "source": [
    "# check the first 5 rows of the dataset\n",
    "# add code here\n"
   ],
   "metadata": {
    "collapsed": false,
    "ExecuteTime": {
     "end_time": "2024-02-07T20:19:31.657847864Z",
     "start_time": "2024-02-07T20:19:31.653441525Z"
    }
   },
   "id": "f74be9f56ddfd564",
   "execution_count": 21
  },
  {
   "cell_type": "code",
   "outputs": [],
   "source": [
    "# check the data types of the columns\n",
    "# add code here\n"
   ],
   "metadata": {
    "collapsed": false,
    "ExecuteTime": {
     "end_time": "2024-02-07T20:19:38.233488028Z",
     "start_time": "2024-02-07T20:19:38.188193370Z"
    }
   },
   "id": "292185c65ebf175d",
   "execution_count": 22
  },
  {
   "cell_type": "code",
   "outputs": [],
   "source": [
    "# check the statistical summary of the dataset\n",
    "# add code here\n"
   ],
   "metadata": {
    "collapsed": false,
    "ExecuteTime": {
     "end_time": "2024-02-07T20:17:17.553512229Z",
     "start_time": "2024-02-07T20:17:17.512025395Z"
    }
   },
   "id": "b6b22504ae42960c",
   "execution_count": 18
  },
  {
   "cell_type": "code",
   "outputs": [],
   "source": [
    "# check for missing values\n",
    "# add code here\n"
   ],
   "metadata": {
    "collapsed": false
   },
   "id": "d7be1e41908328f2",
   "execution_count": null
  },
  {
   "cell_type": "code",
   "outputs": [],
   "source": [
    "# create a copy of the dataset and drop the rows with missing values\n",
    "# add code here\n"
   ],
   "metadata": {
    "collapsed": false
   },
   "id": "bd6d2988f73236cc",
   "execution_count": null
  },
  {
   "cell_type": "code",
   "outputs": [],
   "source": [
    "# check the dimensions of the new dataset\n",
    "# add code here\n"
   ],
   "metadata": {
    "collapsed": false
   },
   "id": "9c6031e973c5f0a1",
   "execution_count": null
  },
  {
   "cell_type": "code",
   "outputs": [],
   "source": [
    "# check the statistical summary of the new dataset\n",
    "# add code here\n"
   ],
   "metadata": {
    "collapsed": false
   },
   "id": "d70b9d6d9247422",
   "execution_count": null
  },
  {
   "cell_type": "code",
   "outputs": [],
   "source": [
    "# check for missing values in the new dataset\n",
    "# add code here\n"
   ],
   "metadata": {
    "collapsed": false
   },
   "id": "fd1ba1c35e614974",
   "execution_count": null
  },
  {
   "cell_type": "code",
   "outputs": [],
   "source": [
    "# create a copy of the dataset and fill the missing values with the median of the respective columns\n",
    "# add code here\n"
   ],
   "metadata": {
    "collapsed": false
   },
   "id": "3f8f56fe9a92ccdf",
   "execution_count": null
  },
  {
   "cell_type": "code",
   "outputs": [],
   "source": [
    "# check the statistical summary of the new dataset\n",
    "# add code here\n"
   ],
   "metadata": {
    "collapsed": false
   },
   "id": "b295dd143fecd76e",
   "execution_count": null
  },
  {
   "cell_type": "code",
   "outputs": [],
   "source": [
    "# check for missing values in the new dataset\n",
    "# add code here\n"
   ],
   "metadata": {
    "collapsed": false
   },
   "id": "abdb50ae42017030",
   "execution_count": null
  }
 ],
 "metadata": {
  "kernelspec": {
   "display_name": "Python 3",
   "language": "python",
   "name": "python3"
  },
  "language_info": {
   "codemirror_mode": {
    "name": "ipython",
    "version": 2
   },
   "file_extension": ".py",
   "mimetype": "text/x-python",
   "name": "python",
   "nbconvert_exporter": "python",
   "pygments_lexer": "ipython2",
   "version": "2.7.6"
  }
 },
 "nbformat": 4,
 "nbformat_minor": 5
}
