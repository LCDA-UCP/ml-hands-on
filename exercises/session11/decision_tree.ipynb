{
 "cells": [
  {
   "cell_type": "code",
   "id": "initial_id",
   "metadata": {
    "collapsed": true,
    "ExecuteTime": {
     "end_time": "2025-03-14T12:14:46.041209Z",
     "start_time": "2025-03-14T12:14:45.775591Z"
    }
   },
   "source": [
    "import numpy as np\n",
    "import matplotlib.pyplot as plt\n",
    "from sklearn.tree import DecisionTreeClassifier\n",
    "from sklearn.datasets import make_classification\n",
    "from sklearn.model_selection import train_test_split\n",
    "from sklearn.metrics import accuracy_score\n",
    "from ipywidgets import interactive, IntSlider, FloatSlider, ToggleButtons\n",
    "\n",
    "# Generate synthetic dataset with more entropy\n",
    "X, y = make_classification(n_samples=500, n_features=2, n_classes=2, n_informative=2, n_redundant=0, n_clusters_per_class=2, class_sep=0.5, random_state=42)\n",
    "X_train, X_test, y_train, y_test = train_test_split(X, y, test_size=0.2, random_state=42)"
   ],
   "outputs": [],
   "execution_count": 2
  },
  {
   "metadata": {
    "ExecuteTime": {
     "end_time": "2025-03-14T12:14:52.124818Z",
     "start_time": "2025-03-14T12:14:51.348842Z"
    }
   },
   "cell_type": "code",
   "source": [
    "def plot_decision_boundary(max_depth, min_samples_split, min_samples_leaf, max_features, criterion, ccp_alpha):\n",
    "    # Convert 'None' string to actual None type\n",
    "    max_features = None if max_features == 'None' else max_features\n",
    "\n",
    "    # Train Decision Tree with parameters\n",
    "    clf = DecisionTreeClassifier(\n",
    "        max_depth=max_depth,\n",
    "        min_samples_split=min_samples_split,\n",
    "        min_samples_leaf=min_samples_leaf,\n",
    "        max_features=max_features,\n",
    "        criterion=criterion,\n",
    "        ccp_alpha=ccp_alpha,\n",
    "        random_state=42\n",
    "    )\n",
    "    clf.fit(X_train, y_train)\n",
    "\n",
    "    # Predict and calculate accuracy\n",
    "    y_pred = clf.predict(X_test)\n",
    "    acc = accuracy_score(y_test, y_pred)\n",
    "\n",
    "    # Create mesh grid\n",
    "    h = .02\n",
    "    x_min, x_max = X[:, 0].min() - 1, X[:, 0].max() + 1\n",
    "    y_min, y_max = X[:, 1].min() - 1, X[:, 1].max() + 1\n",
    "    xx, yy = np.meshgrid(np.arange(x_min, x_max, h), np.arange(y_min, y_max, h))\n",
    "\n",
    "    # Predict on mesh grid\n",
    "    Z = clf.predict(np.c_[xx.ravel(), yy.ravel()])\n",
    "    Z = Z.reshape(xx.shape)\n",
    "\n",
    "    # Plot decision boundary\n",
    "    plt.figure(figsize=(8, 6))\n",
    "    plt.contourf(xx, yy, Z, alpha=0.3)\n",
    "    plt.scatter(X_train[:, 0], X_train[:, 1], c=y_train, marker='o', edgecolors='k', label='Train')\n",
    "    plt.scatter(X_test[:, 0], X_test[:, 1], c=y_test, marker='s', edgecolors='k', label='Test')\n",
    "    plt.title(f'Decision Tree Decision Boundary (Accuracy: {acc:.2f})')\n",
    "    plt.xlabel('Feature 1')\n",
    "    plt.ylabel('Feature 2')\n",
    "    plt.legend()\n",
    "    plt.show()\n",
    "\n",
    "interactive_plot = interactive(\n",
    "    plot_decision_boundary,\n",
    "    max_depth=IntSlider(min=1, max=20, step=1, value=5, description='Max Depth'),\n",
    "    min_samples_split=IntSlider(min=2, max=10, step=1, value=2, description='Min Split'),\n",
    "    min_samples_leaf=IntSlider(min=1, max=10, step=1, value=1, description='Min Leaf'),\n",
    "    max_features=ToggleButtons(options=['None', 'sqrt', 'log2'], value='None', description='Max Features'),\n",
    "    criterion=ToggleButtons(options=['gini', 'entropy'], value='gini', description='Criterion'),\n",
    "    ccp_alpha=FloatSlider(min=0.0, max=0.1, step=0.01, value=0.0, description='CCP Alpha')\n",
    ")\n",
    "interactive_plot"
   ],
   "id": "9384d72f1eb654ce",
   "outputs": [
    {
     "data": {
      "text/plain": [
       "interactive(children=(IntSlider(value=5, description='Max Depth', max=20, min=1), IntSlider(value=2, descripti…"
      ],
      "application/vnd.jupyter.widget-view+json": {
       "version_major": 2,
       "version_minor": 0,
       "model_id": "37fe533dd2da4d80bea417b5572c529e"
      }
     },
     "execution_count": 3,
     "metadata": {},
     "output_type": "execute_result"
    }
   ],
   "execution_count": 3
  },
  {
   "metadata": {},
   "cell_type": "code",
   "outputs": [],
   "execution_count": null,
   "source": "",
   "id": "96da1eb382647020"
  }
 ],
 "metadata": {
  "kernelspec": {
   "display_name": "Python 3",
   "language": "python",
   "name": "python3"
  },
  "language_info": {
   "codemirror_mode": {
    "name": "ipython",
    "version": 2
   },
   "file_extension": ".py",
   "mimetype": "text/x-python",
   "name": "python",
   "nbconvert_exporter": "python",
   "pygments_lexer": "ipython2",
   "version": "2.7.6"
  }
 },
 "nbformat": 4,
 "nbformat_minor": 5
}
